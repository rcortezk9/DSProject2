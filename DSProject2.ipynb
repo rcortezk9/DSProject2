{
 "cells": [
  {
   "cell_type": "markdown",
   "source": [
    "### Read in the CSV files"
   ],
   "metadata": {
    "collapsed": false
   }
  },
  {
   "cell_type": "code",
   "execution_count": 2,
   "outputs": [
    {
     "data": {
      "text/plain": "Index(['playerID', 'yearID', 'stint', 'teamID', 'lgID', 'G', 'AB', 'R', 'H',\n       '2B', '3B', 'HR', 'RBI', 'SB', 'CS', 'BB', 'SO', 'IBB', 'HBP', 'SH',\n       'SF', 'GIDP'],\n      dtype='object')"
     },
     "metadata": {},
     "output_type": "display_data"
    }
   ],
   "source": [
    "import pandas as pd\n",
    "from IPython.core.display import display\n",
    "\n",
    "col = ['playerID','G', 'AB', 'R','H', '2B', '3B', 'HR', 'RBI','SB', 'CS','BB','SO', 'IBB','HBP', 'SH', 'SF', 'GIDP']\n",
    "\n",
    "batting = pd.read_csv('Batting.csv')\n",
    "bat_df = pd.read_csv('Batting.csv', usecols=col)\n",
    "players = pd.read_csv('People.csv')\n",
    "\n",
    "display(batting.columns)"
   ],
   "metadata": {
    "collapsed": false,
    "pycharm": {
     "name": "#%%\n"
    }
   }
  },
  {
   "cell_type": "markdown",
   "source": [
    "### Getting the overall totals of each column"
   ],
   "metadata": {
    "collapsed": false
   }
  },
  {
   "cell_type": "code",
   "execution_count": 3,
   "outputs": [
    {
     "data": {
      "text/plain": "    playerID     G     AB     R     H   2B  3B   HR     RBI     SB    CS  \\\n0  aardsda01   331      4     0     0    0   0    0     0.0    0.0   0.0   \n1  aaronha01  3298  12364  2174  3771  624  98  755  2297.0  240.0  73.0   \n2  aaronto01   437    944   102   216   42   6   13    94.0    9.0   8.0   \n3   aasedo01   448      5     0     0    0   0    0     0.0    0.0   0.0   \n4   abadan01    15     21     1     2    0   0    0     0.0    0.0   1.0   \n\n     BB      SO    IBB   HBP    SH     SF   GIDP  \n0     0     2.0    0.0   0.0   1.0    0.0    0.0  \n1  1402  1383.0  293.0  32.0  21.0  121.0  328.0  \n2    86   145.0    3.0   0.0   9.0    6.0   36.0  \n3     0     3.0    0.0   0.0   0.0    0.0    0.0  \n4     4     5.0    0.0   0.0   0.0    0.0    1.0  ",
      "text/html": "<div>\n<style scoped>\n    .dataframe tbody tr th:only-of-type {\n        vertical-align: middle;\n    }\n\n    .dataframe tbody tr th {\n        vertical-align: top;\n    }\n\n    .dataframe thead th {\n        text-align: right;\n    }\n</style>\n<table border=\"1\" class=\"dataframe\">\n  <thead>\n    <tr style=\"text-align: right;\">\n      <th></th>\n      <th>playerID</th>\n      <th>G</th>\n      <th>AB</th>\n      <th>R</th>\n      <th>H</th>\n      <th>2B</th>\n      <th>3B</th>\n      <th>HR</th>\n      <th>RBI</th>\n      <th>SB</th>\n      <th>CS</th>\n      <th>BB</th>\n      <th>SO</th>\n      <th>IBB</th>\n      <th>HBP</th>\n      <th>SH</th>\n      <th>SF</th>\n      <th>GIDP</th>\n    </tr>\n  </thead>\n  <tbody>\n    <tr>\n      <th>0</th>\n      <td>aardsda01</td>\n      <td>331</td>\n      <td>4</td>\n      <td>0</td>\n      <td>0</td>\n      <td>0</td>\n      <td>0</td>\n      <td>0</td>\n      <td>0.0</td>\n      <td>0.0</td>\n      <td>0.0</td>\n      <td>0</td>\n      <td>2.0</td>\n      <td>0.0</td>\n      <td>0.0</td>\n      <td>1.0</td>\n      <td>0.0</td>\n      <td>0.0</td>\n    </tr>\n    <tr>\n      <th>1</th>\n      <td>aaronha01</td>\n      <td>3298</td>\n      <td>12364</td>\n      <td>2174</td>\n      <td>3771</td>\n      <td>624</td>\n      <td>98</td>\n      <td>755</td>\n      <td>2297.0</td>\n      <td>240.0</td>\n      <td>73.0</td>\n      <td>1402</td>\n      <td>1383.0</td>\n      <td>293.0</td>\n      <td>32.0</td>\n      <td>21.0</td>\n      <td>121.0</td>\n      <td>328.0</td>\n    </tr>\n    <tr>\n      <th>2</th>\n      <td>aaronto01</td>\n      <td>437</td>\n      <td>944</td>\n      <td>102</td>\n      <td>216</td>\n      <td>42</td>\n      <td>6</td>\n      <td>13</td>\n      <td>94.0</td>\n      <td>9.0</td>\n      <td>8.0</td>\n      <td>86</td>\n      <td>145.0</td>\n      <td>3.0</td>\n      <td>0.0</td>\n      <td>9.0</td>\n      <td>6.0</td>\n      <td>36.0</td>\n    </tr>\n    <tr>\n      <th>3</th>\n      <td>aasedo01</td>\n      <td>448</td>\n      <td>5</td>\n      <td>0</td>\n      <td>0</td>\n      <td>0</td>\n      <td>0</td>\n      <td>0</td>\n      <td>0.0</td>\n      <td>0.0</td>\n      <td>0.0</td>\n      <td>0</td>\n      <td>3.0</td>\n      <td>0.0</td>\n      <td>0.0</td>\n      <td>0.0</td>\n      <td>0.0</td>\n      <td>0.0</td>\n    </tr>\n    <tr>\n      <th>4</th>\n      <td>abadan01</td>\n      <td>15</td>\n      <td>21</td>\n      <td>1</td>\n      <td>2</td>\n      <td>0</td>\n      <td>0</td>\n      <td>0</td>\n      <td>0.0</td>\n      <td>0.0</td>\n      <td>1.0</td>\n      <td>4</td>\n      <td>5.0</td>\n      <td>0.0</td>\n      <td>0.0</td>\n      <td>0.0</td>\n      <td>0.0</td>\n      <td>1.0</td>\n    </tr>\n  </tbody>\n</table>\n</div>"
     },
     "execution_count": 3,
     "metadata": {},
     "output_type": "execute_result"
    }
   ],
   "source": [
    "bat_group = bat_df.groupby('playerID', sort=True).sum().reset_index()\n",
    "bat_group.head()"
   ],
   "metadata": {
    "collapsed": false,
    "pycharm": {
     "name": "#%%\n"
    }
   }
  },
  {
   "cell_type": "code",
   "execution_count": 4,
   "outputs": [
    {
     "data": {
      "text/plain": "    playerID     G     AB     R     H   2B  3B   HR     RBI     SB  ...  \\\n0  aardsda01   331      4     0     0    0   0    0     0.0    0.0  ...   \n1  aaronha01  3298  12364  2174  3771  624  98  755  2297.0  240.0  ...   \n2  aaronto01   437    944   102   216   42   6   13    94.0    9.0  ...   \n3   aasedo01   448      5     0     0    0   0    0     0.0    0.0  ...   \n4   abadan01    15     21     1     2    0   0    0     0.0    0.0  ...   \n\n   nameLast       nameGiven  weight  height  bats  throws       debut  \\\n0   Aardsma     David Allan   215.0    75.0     R       R  2004-04-06   \n1     Aaron     Henry Louis   180.0    72.0     R       R  1954-04-13   \n2     Aaron      Tommie Lee   190.0    75.0     R       R  1962-04-10   \n3      Aase  Donald William   190.0    75.0     R       R  1977-07-26   \n4      Abad   Fausto Andres   184.0    73.0     L       L  2001-09-10   \n\n    finalGame   retroID    bbrefID  \n0  2015-08-23  aardd001  aardsda01  \n1  1976-10-03  aaroh101  aaronha01  \n2  1971-09-26  aarot101  aaronto01  \n3  1990-10-03  aased001   aasedo01  \n4  2006-04-13  abada001   abadan01  \n\n[5 rows x 41 columns]",
      "text/html": "<div>\n<style scoped>\n    .dataframe tbody tr th:only-of-type {\n        vertical-align: middle;\n    }\n\n    .dataframe tbody tr th {\n        vertical-align: top;\n    }\n\n    .dataframe thead th {\n        text-align: right;\n    }\n</style>\n<table border=\"1\" class=\"dataframe\">\n  <thead>\n    <tr style=\"text-align: right;\">\n      <th></th>\n      <th>playerID</th>\n      <th>G</th>\n      <th>AB</th>\n      <th>R</th>\n      <th>H</th>\n      <th>2B</th>\n      <th>3B</th>\n      <th>HR</th>\n      <th>RBI</th>\n      <th>SB</th>\n      <th>...</th>\n      <th>nameLast</th>\n      <th>nameGiven</th>\n      <th>weight</th>\n      <th>height</th>\n      <th>bats</th>\n      <th>throws</th>\n      <th>debut</th>\n      <th>finalGame</th>\n      <th>retroID</th>\n      <th>bbrefID</th>\n    </tr>\n  </thead>\n  <tbody>\n    <tr>\n      <th>0</th>\n      <td>aardsda01</td>\n      <td>331</td>\n      <td>4</td>\n      <td>0</td>\n      <td>0</td>\n      <td>0</td>\n      <td>0</td>\n      <td>0</td>\n      <td>0.0</td>\n      <td>0.0</td>\n      <td>...</td>\n      <td>Aardsma</td>\n      <td>David Allan</td>\n      <td>215.0</td>\n      <td>75.0</td>\n      <td>R</td>\n      <td>R</td>\n      <td>2004-04-06</td>\n      <td>2015-08-23</td>\n      <td>aardd001</td>\n      <td>aardsda01</td>\n    </tr>\n    <tr>\n      <th>1</th>\n      <td>aaronha01</td>\n      <td>3298</td>\n      <td>12364</td>\n      <td>2174</td>\n      <td>3771</td>\n      <td>624</td>\n      <td>98</td>\n      <td>755</td>\n      <td>2297.0</td>\n      <td>240.0</td>\n      <td>...</td>\n      <td>Aaron</td>\n      <td>Henry Louis</td>\n      <td>180.0</td>\n      <td>72.0</td>\n      <td>R</td>\n      <td>R</td>\n      <td>1954-04-13</td>\n      <td>1976-10-03</td>\n      <td>aaroh101</td>\n      <td>aaronha01</td>\n    </tr>\n    <tr>\n      <th>2</th>\n      <td>aaronto01</td>\n      <td>437</td>\n      <td>944</td>\n      <td>102</td>\n      <td>216</td>\n      <td>42</td>\n      <td>6</td>\n      <td>13</td>\n      <td>94.0</td>\n      <td>9.0</td>\n      <td>...</td>\n      <td>Aaron</td>\n      <td>Tommie Lee</td>\n      <td>190.0</td>\n      <td>75.0</td>\n      <td>R</td>\n      <td>R</td>\n      <td>1962-04-10</td>\n      <td>1971-09-26</td>\n      <td>aarot101</td>\n      <td>aaronto01</td>\n    </tr>\n    <tr>\n      <th>3</th>\n      <td>aasedo01</td>\n      <td>448</td>\n      <td>5</td>\n      <td>0</td>\n      <td>0</td>\n      <td>0</td>\n      <td>0</td>\n      <td>0</td>\n      <td>0.0</td>\n      <td>0.0</td>\n      <td>...</td>\n      <td>Aase</td>\n      <td>Donald William</td>\n      <td>190.0</td>\n      <td>75.0</td>\n      <td>R</td>\n      <td>R</td>\n      <td>1977-07-26</td>\n      <td>1990-10-03</td>\n      <td>aased001</td>\n      <td>aasedo01</td>\n    </tr>\n    <tr>\n      <th>4</th>\n      <td>abadan01</td>\n      <td>15</td>\n      <td>21</td>\n      <td>1</td>\n      <td>2</td>\n      <td>0</td>\n      <td>0</td>\n      <td>0</td>\n      <td>0.0</td>\n      <td>0.0</td>\n      <td>...</td>\n      <td>Abad</td>\n      <td>Fausto Andres</td>\n      <td>184.0</td>\n      <td>73.0</td>\n      <td>L</td>\n      <td>L</td>\n      <td>2001-09-10</td>\n      <td>2006-04-13</td>\n      <td>abada001</td>\n      <td>abadan01</td>\n    </tr>\n  </tbody>\n</table>\n<p>5 rows × 41 columns</p>\n</div>"
     },
     "execution_count": 4,
     "metadata": {},
     "output_type": "execute_result"
    }
   ],
   "source": [
    "new_players = pd.merge(bat_group, players, on='playerID')\n",
    "new_players.head()"
   ],
   "metadata": {
    "collapsed": false,
    "pycharm": {
     "name": "#%%\n"
    }
   }
  },
  {
   "cell_type": "markdown",
   "source": [
    "### Add calculated columns"
   ],
   "metadata": {
    "collapsed": false
   }
  },
  {
   "cell_type": "code",
   "execution_count": 5,
   "outputs": [
    {
     "data": {
      "text/plain": "    playerID     G     AB     R     H   2B  3B   HR     RBI     SB  ...  \\\n0  aardsda01   331      4     0     0    0   0    0     0.0    0.0  ...   \n1  aaronha01  3298  12364  2174  3771  624  98  755  2297.0  240.0  ...   \n2  aaronto01   437    944   102   216   42   6   13    94.0    9.0  ...   \n3   aasedo01   448      5     0     0    0   0    0     0.0    0.0  ...   \n4   abadan01    15     21     1     2    0   0    0     0.0    0.0  ...   \n\n   deathState  deathCity  weight  height  bats  throws       debut  \\\n0         NaN        NaN   215.0    75.0     R       R  2004-04-06   \n1         NaN        NaN   180.0    72.0     R       R  1954-04-13   \n2          GA    Atlanta   190.0    75.0     R       R  1962-04-10   \n3         NaN        NaN   190.0    75.0     R       R  1977-07-26   \n4         NaN        NaN   184.0    73.0     L       L  2001-09-10   \n\n    finalGame         DOB       fullName  \n0  2015-08-23  1981-12-27  David Aardsma  \n1  1976-10-03    1934-2-5     Hank Aaron  \n2  1971-09-26    1939-8-5   Tommie Aaron  \n3  1990-10-03    1954-9-8       Don Aase  \n4  2006-04-13   1972-8-25      Andy Abad  \n\n[5 rows x 35 columns]",
      "text/html": "<div>\n<style scoped>\n    .dataframe tbody tr th:only-of-type {\n        vertical-align: middle;\n    }\n\n    .dataframe tbody tr th {\n        vertical-align: top;\n    }\n\n    .dataframe thead th {\n        text-align: right;\n    }\n</style>\n<table border=\"1\" class=\"dataframe\">\n  <thead>\n    <tr style=\"text-align: right;\">\n      <th></th>\n      <th>playerID</th>\n      <th>G</th>\n      <th>AB</th>\n      <th>R</th>\n      <th>H</th>\n      <th>2B</th>\n      <th>3B</th>\n      <th>HR</th>\n      <th>RBI</th>\n      <th>SB</th>\n      <th>...</th>\n      <th>deathState</th>\n      <th>deathCity</th>\n      <th>weight</th>\n      <th>height</th>\n      <th>bats</th>\n      <th>throws</th>\n      <th>debut</th>\n      <th>finalGame</th>\n      <th>DOB</th>\n      <th>fullName</th>\n    </tr>\n  </thead>\n  <tbody>\n    <tr>\n      <th>0</th>\n      <td>aardsda01</td>\n      <td>331</td>\n      <td>4</td>\n      <td>0</td>\n      <td>0</td>\n      <td>0</td>\n      <td>0</td>\n      <td>0</td>\n      <td>0.0</td>\n      <td>0.0</td>\n      <td>...</td>\n      <td>NaN</td>\n      <td>NaN</td>\n      <td>215.0</td>\n      <td>75.0</td>\n      <td>R</td>\n      <td>R</td>\n      <td>2004-04-06</td>\n      <td>2015-08-23</td>\n      <td>1981-12-27</td>\n      <td>David Aardsma</td>\n    </tr>\n    <tr>\n      <th>1</th>\n      <td>aaronha01</td>\n      <td>3298</td>\n      <td>12364</td>\n      <td>2174</td>\n      <td>3771</td>\n      <td>624</td>\n      <td>98</td>\n      <td>755</td>\n      <td>2297.0</td>\n      <td>240.0</td>\n      <td>...</td>\n      <td>NaN</td>\n      <td>NaN</td>\n      <td>180.0</td>\n      <td>72.0</td>\n      <td>R</td>\n      <td>R</td>\n      <td>1954-04-13</td>\n      <td>1976-10-03</td>\n      <td>1934-2-5</td>\n      <td>Hank Aaron</td>\n    </tr>\n    <tr>\n      <th>2</th>\n      <td>aaronto01</td>\n      <td>437</td>\n      <td>944</td>\n      <td>102</td>\n      <td>216</td>\n      <td>42</td>\n      <td>6</td>\n      <td>13</td>\n      <td>94.0</td>\n      <td>9.0</td>\n      <td>...</td>\n      <td>GA</td>\n      <td>Atlanta</td>\n      <td>190.0</td>\n      <td>75.0</td>\n      <td>R</td>\n      <td>R</td>\n      <td>1962-04-10</td>\n      <td>1971-09-26</td>\n      <td>1939-8-5</td>\n      <td>Tommie Aaron</td>\n    </tr>\n    <tr>\n      <th>3</th>\n      <td>aasedo01</td>\n      <td>448</td>\n      <td>5</td>\n      <td>0</td>\n      <td>0</td>\n      <td>0</td>\n      <td>0</td>\n      <td>0</td>\n      <td>0.0</td>\n      <td>0.0</td>\n      <td>...</td>\n      <td>NaN</td>\n      <td>NaN</td>\n      <td>190.0</td>\n      <td>75.0</td>\n      <td>R</td>\n      <td>R</td>\n      <td>1977-07-26</td>\n      <td>1990-10-03</td>\n      <td>1954-9-8</td>\n      <td>Don Aase</td>\n    </tr>\n    <tr>\n      <th>4</th>\n      <td>abadan01</td>\n      <td>15</td>\n      <td>21</td>\n      <td>1</td>\n      <td>2</td>\n      <td>0</td>\n      <td>0</td>\n      <td>0</td>\n      <td>0.0</td>\n      <td>0.0</td>\n      <td>...</td>\n      <td>NaN</td>\n      <td>NaN</td>\n      <td>184.0</td>\n      <td>73.0</td>\n      <td>L</td>\n      <td>L</td>\n      <td>2001-09-10</td>\n      <td>2006-04-13</td>\n      <td>1972-8-25</td>\n      <td>Andy Abad</td>\n    </tr>\n  </tbody>\n</table>\n<p>5 rows × 35 columns</p>\n</div>"
     },
     "execution_count": 5,
     "metadata": {},
     "output_type": "execute_result"
    }
   ],
   "source": [
    "# Using the f\" to format\n",
    "year = new_players['birthYear'].apply(lambda x: f'{x:.0f}')\n",
    "month = new_players['birthMonth'].apply(lambda x: f'{x:.0f}')\n",
    "day = new_players['birthDay'].apply(lambda x: f'{x:.0f}')\n",
    "# Concate birth year, month, day\n",
    "dob =  year + \"-\" + month + \"-\" + day\n",
    "# Add column with birth info\n",
    "new_players['DOB'] = dob\n",
    "\n",
    "new_players['fullName'] = new_players['nameFirst'].astype(str) + \" \" + new_players['nameLast'].astype(str)\n",
    "\n",
    "new_players.drop(['birthYear', 'birthMonth', 'birthDay', 'nameFirst', 'nameLast', 'retroID', 'bbrefID', 'nameGiven'], axis=1, inplace=True)\n",
    "# Drop rows that have all 'na'\n",
    "new_players.head()"
   ],
   "metadata": {
    "collapsed": false,
    "pycharm": {
     "name": "#%%\n"
    }
   }
  },
  {
   "cell_type": "markdown",
   "source": [
    "### Show all the players that have played 50+ games and are still active"
   ],
   "metadata": {
    "collapsed": false
   }
  },
  {
   "cell_type": "code",
   "execution_count": 14,
   "outputs": [
    {
     "data": {
      "text/plain": "      playerID    G    AB    R     H   2B  3B   HR    RBI    SB  ...  \\\n36   abreujo02  901  3547  483  1038  218  14  179  611.0  10.0  ...   \n56   acunaro01  267  1059  205   302   48   6   67  165.0  53.0  ...   \n60   adamewi01  237   819  112   215   32   1   30   86.0  10.0  ...   \n85   adamsma01  818  2336  290   609  127   6  116  388.0   4.0  ...   \n116  adriaeh01  422   990  133   246   56   7   16  111.0  17.0  ...   \n\n     deathState  deathCity  weight  height  bats  throws       debut  \\\n36          NaN        NaN   250.0    75.0     R       R  2014-03-31   \n56          NaN        NaN   205.0    72.0     R       R  2018-04-25   \n60          NaN        NaN   210.0    72.0     R       R  2018-05-22   \n85          NaN        NaN   245.0    75.0     L       R  2012-05-20   \n116         NaN        NaN   195.0    73.0     B       R  2013-09-08   \n\n      finalGame         DOB        fullName  \n36   2020-08-08   1987-1-29      José Abreu  \n56   2020-08-08  1997-12-18    Ronald Acuna  \n60   2020-08-08    1995-9-2    Willy Adames  \n85   2020-08-04   1988-8-31      Matt Adams  \n116  2020-08-08   1989-8-21  Ehire Adrianza  \n\n[5 rows x 35 columns]",
      "text/html": "<div>\n<style scoped>\n    .dataframe tbody tr th:only-of-type {\n        vertical-align: middle;\n    }\n\n    .dataframe tbody tr th {\n        vertical-align: top;\n    }\n\n    .dataframe thead th {\n        text-align: right;\n    }\n</style>\n<table border=\"1\" class=\"dataframe\">\n  <thead>\n    <tr style=\"text-align: right;\">\n      <th></th>\n      <th>playerID</th>\n      <th>G</th>\n      <th>AB</th>\n      <th>R</th>\n      <th>H</th>\n      <th>2B</th>\n      <th>3B</th>\n      <th>HR</th>\n      <th>RBI</th>\n      <th>SB</th>\n      <th>...</th>\n      <th>deathState</th>\n      <th>deathCity</th>\n      <th>weight</th>\n      <th>height</th>\n      <th>bats</th>\n      <th>throws</th>\n      <th>debut</th>\n      <th>finalGame</th>\n      <th>DOB</th>\n      <th>fullName</th>\n    </tr>\n  </thead>\n  <tbody>\n    <tr>\n      <th>36</th>\n      <td>abreujo02</td>\n      <td>901</td>\n      <td>3547</td>\n      <td>483</td>\n      <td>1038</td>\n      <td>218</td>\n      <td>14</td>\n      <td>179</td>\n      <td>611.0</td>\n      <td>10.0</td>\n      <td>...</td>\n      <td>NaN</td>\n      <td>NaN</td>\n      <td>250.0</td>\n      <td>75.0</td>\n      <td>R</td>\n      <td>R</td>\n      <td>2014-03-31</td>\n      <td>2020-08-08</td>\n      <td>1987-1-29</td>\n      <td>José Abreu</td>\n    </tr>\n    <tr>\n      <th>56</th>\n      <td>acunaro01</td>\n      <td>267</td>\n      <td>1059</td>\n      <td>205</td>\n      <td>302</td>\n      <td>48</td>\n      <td>6</td>\n      <td>67</td>\n      <td>165.0</td>\n      <td>53.0</td>\n      <td>...</td>\n      <td>NaN</td>\n      <td>NaN</td>\n      <td>205.0</td>\n      <td>72.0</td>\n      <td>R</td>\n      <td>R</td>\n      <td>2018-04-25</td>\n      <td>2020-08-08</td>\n      <td>1997-12-18</td>\n      <td>Ronald Acuna</td>\n    </tr>\n    <tr>\n      <th>60</th>\n      <td>adamewi01</td>\n      <td>237</td>\n      <td>819</td>\n      <td>112</td>\n      <td>215</td>\n      <td>32</td>\n      <td>1</td>\n      <td>30</td>\n      <td>86.0</td>\n      <td>10.0</td>\n      <td>...</td>\n      <td>NaN</td>\n      <td>NaN</td>\n      <td>210.0</td>\n      <td>72.0</td>\n      <td>R</td>\n      <td>R</td>\n      <td>2018-05-22</td>\n      <td>2020-08-08</td>\n      <td>1995-9-2</td>\n      <td>Willy Adames</td>\n    </tr>\n    <tr>\n      <th>85</th>\n      <td>adamsma01</td>\n      <td>818</td>\n      <td>2336</td>\n      <td>290</td>\n      <td>609</td>\n      <td>127</td>\n      <td>6</td>\n      <td>116</td>\n      <td>388.0</td>\n      <td>4.0</td>\n      <td>...</td>\n      <td>NaN</td>\n      <td>NaN</td>\n      <td>245.0</td>\n      <td>75.0</td>\n      <td>L</td>\n      <td>R</td>\n      <td>2012-05-20</td>\n      <td>2020-08-04</td>\n      <td>1988-8-31</td>\n      <td>Matt Adams</td>\n    </tr>\n    <tr>\n      <th>116</th>\n      <td>adriaeh01</td>\n      <td>422</td>\n      <td>990</td>\n      <td>133</td>\n      <td>246</td>\n      <td>56</td>\n      <td>7</td>\n      <td>16</td>\n      <td>111.0</td>\n      <td>17.0</td>\n      <td>...</td>\n      <td>NaN</td>\n      <td>NaN</td>\n      <td>195.0</td>\n      <td>73.0</td>\n      <td>B</td>\n      <td>R</td>\n      <td>2013-09-08</td>\n      <td>2020-08-08</td>\n      <td>1989-8-21</td>\n      <td>Ehire Adrianza</td>\n    </tr>\n  </tbody>\n</table>\n<p>5 rows × 35 columns</p>\n</div>"
     },
     "metadata": {},
     "output_type": "display_data"
    },
    {
     "data": {
      "text/plain": "723"
     },
     "metadata": {},
     "output_type": "display_data"
    }
   ],
   "source": [
    "# Set the variable for the boolean mask\n",
    "start_date = '2020-04-01'\n",
    "min_games = 50\n",
    "\n",
    "mask = (new_players['finalGame'] > start_date) & (new_players['G'] >= min_games)\n",
    "\n",
    "active_players = new_players.loc[mask]\n",
    "display(active_players.head())\n",
    "display(active_players['playerID'].nunique())"
   ],
   "metadata": {
    "collapsed": false,
    "pycharm": {
     "name": "#%%\n"
    }
   }
  },
  {
   "cell_type": "markdown",
   "source": [
    "### Which active player had the most runs batted in (“RBI” from the Batting table) from 2015-2018?"
   ],
   "metadata": {
    "collapsed": false,
    "pycharm": {
     "name": "#%% md\n"
    }
   }
  },
  {
   "cell_type": "code",
   "execution_count": 13,
   "outputs": [
    {
     "data": {
      "text/plain": "      playerID     G    AB    R     H   2B  3B   HR    RBI    SB  ...  \\\n459  arenano01  1031  3936  626  1160  253  27  227  734.0  16.0  ...   \n\n     deathState  deathCity  weight  height  bats  throws       debut  \\\n459         NaN        NaN   215.0    74.0     R       R  2013-04-28   \n\n      finalGame        DOB       fullName  \n459  2020-08-08  1991-4-16  Nolan Arenado  \n\n[1 rows x 35 columns]",
      "text/html": "<div>\n<style scoped>\n    .dataframe tbody tr th:only-of-type {\n        vertical-align: middle;\n    }\n\n    .dataframe tbody tr th {\n        vertical-align: top;\n    }\n\n    .dataframe thead th {\n        text-align: right;\n    }\n</style>\n<table border=\"1\" class=\"dataframe\">\n  <thead>\n    <tr style=\"text-align: right;\">\n      <th></th>\n      <th>playerID</th>\n      <th>G</th>\n      <th>AB</th>\n      <th>R</th>\n      <th>H</th>\n      <th>2B</th>\n      <th>3B</th>\n      <th>HR</th>\n      <th>RBI</th>\n      <th>SB</th>\n      <th>...</th>\n      <th>deathState</th>\n      <th>deathCity</th>\n      <th>weight</th>\n      <th>height</th>\n      <th>bats</th>\n      <th>throws</th>\n      <th>debut</th>\n      <th>finalGame</th>\n      <th>DOB</th>\n      <th>fullName</th>\n    </tr>\n  </thead>\n  <tbody>\n    <tr>\n      <th>459</th>\n      <td>arenano01</td>\n      <td>1031</td>\n      <td>3936</td>\n      <td>626</td>\n      <td>1160</td>\n      <td>253</td>\n      <td>27</td>\n      <td>227</td>\n      <td>734.0</td>\n      <td>16.0</td>\n      <td>...</td>\n      <td>NaN</td>\n      <td>NaN</td>\n      <td>215.0</td>\n      <td>74.0</td>\n      <td>R</td>\n      <td>R</td>\n      <td>2013-04-28</td>\n      <td>2020-08-08</td>\n      <td>1991-4-16</td>\n      <td>Nolan Arenado</td>\n    </tr>\n  </tbody>\n</table>\n<p>1 rows × 35 columns</p>\n</div>"
     },
     "metadata": {},
     "output_type": "display_data"
    }
   ],
   "source": [
    "years_to_examine = [2015, 2016, 2017, 2018]\n",
    "batting_rbi = batting[['playerID', 'yearID', 'RBI', 'H', 'HR', 'G']]\n",
    "batting_rbi = batting_rbi[batting['yearID'].isin(years_to_examine)]\n",
    "\n",
    "batting_rbi = batting_rbi.groupby(['playerID'], as_index=False).sum()\n",
    "\n",
    "most_rbi = batting_rbi[batting_rbi.RBI == batting_rbi.RBI.max()]\n",
    "\n",
    "player_most_rbi = new_players.loc[new_players['playerID'] == 'arenano01']\n",
    "display(player_most_rbi)"
   ],
   "metadata": {
    "collapsed": false,
    "pycharm": {
     "name": "#%%\n"
    }
   }
  },
  {
   "cell_type": "markdown",
   "source": [
    "### How many double plays did Albert Pujols ground into in 2016"
   ],
   "metadata": {
    "collapsed": false,
    "pycharm": {
     "name": "#%% md\n"
    }
   }
  },
  {
   "cell_type": "code",
   "execution_count": 20,
   "outputs": [
    {
     "data": {
      "text/plain": "14322    pujolal01\nName: playerID, dtype: object"
     },
     "metadata": {},
     "output_type": "display_data"
    },
    {
     "data": {
      "text/plain": "         playerID  yearID  GIDP\n102421  pujolal01    2016  24.0",
      "text/html": "<div>\n<style scoped>\n    .dataframe tbody tr th:only-of-type {\n        vertical-align: middle;\n    }\n\n    .dataframe tbody tr th {\n        vertical-align: top;\n    }\n\n    .dataframe thead th {\n        text-align: right;\n    }\n</style>\n<table border=\"1\" class=\"dataframe\">\n  <thead>\n    <tr style=\"text-align: right;\">\n      <th></th>\n      <th>playerID</th>\n      <th>yearID</th>\n      <th>GIDP</th>\n    </tr>\n  </thead>\n  <tbody>\n    <tr>\n      <th>102421</th>\n      <td>pujolal01</td>\n      <td>2016</td>\n      <td>24.0</td>\n    </tr>\n  </tbody>\n</table>\n</div>"
     },
     "metadata": {},
     "output_type": "display_data"
    }
   ],
   "source": [
    "# Get playerID from full name\n",
    "albert_pujols = new_players.loc[new_players['fullName'] == 'Albert Pujols']\n",
    "display(albert_pujols['playerID'])\n",
    "# Using playerID and yearID\n",
    "gidp_mask = (batting['playerID'] == 'pujolal01') & (batting['yearID'] == 2016)\n",
    "\n",
    "pujols_gidp = batting[['playerID', 'yearID', 'GIDP']]\n",
    "pujols_gidp = pujols_gidp.loc[gidp_mask]\n",
    "\n",
    "display(pujols_gidp)"
   ],
   "metadata": {
    "collapsed": false,
    "pycharm": {
     "name": "#%%\n"
    }
   }
  }
 ],
 "metadata": {
  "kernelspec": {
   "display_name": "Python 3",
   "language": "python",
   "name": "python3"
  },
  "language_info": {
   "codemirror_mode": {
    "name": "ipython",
    "version": 2
   },
   "file_extension": ".py",
   "mimetype": "text/x-python",
   "name": "python",
   "nbconvert_exporter": "python",
   "pygments_lexer": "ipython2",
   "version": "2.7.6"
  }
 },
 "nbformat": 4,
 "nbformat_minor": 0
}