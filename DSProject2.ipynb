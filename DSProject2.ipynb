{
 "cells": [
  {
   "cell_type": "markdown",
   "source": [
    "### Read in the CSV files"
   ],
   "metadata": {
    "collapsed": false
   }
  },
  {
   "cell_type": "code",
   "execution_count": 1,
   "outputs": [
    {
     "data": {
      "text/plain": "    playerID  yearID  stint teamID lgID   G   AB   R   H  2B  ...   RBI   SB  \\\n0  abercda01    1871      1    TRO  NaN   1    4   0   0   0  ...   0.0  0.0   \n1   addybo01    1871      1    RC1  NaN  25  118  30  32   6  ...  13.0  8.0   \n2  allisar01    1871      1    CL1  NaN  29  137  28  40   4  ...  19.0  3.0   \n3  allisdo01    1871      1    WS3  NaN  27  133  28  44  10  ...  27.0  1.0   \n4  ansonca01    1871      1    RC1  NaN  25  120  29  39  11  ...  16.0  6.0   \n\n    CS  BB   SO  IBB  HBP  SH  SF  GIDP  \n0  0.0   0  0.0  NaN  NaN NaN NaN   0.0  \n1  1.0   4  0.0  NaN  NaN NaN NaN   0.0  \n2  1.0   2  5.0  NaN  NaN NaN NaN   1.0  \n3  1.0   0  2.0  NaN  NaN NaN NaN   0.0  \n4  2.0   2  1.0  NaN  NaN NaN NaN   0.0  \n\n[5 rows x 22 columns]",
      "text/html": "<div>\n<style scoped>\n    .dataframe tbody tr th:only-of-type {\n        vertical-align: middle;\n    }\n\n    .dataframe tbody tr th {\n        vertical-align: top;\n    }\n\n    .dataframe thead th {\n        text-align: right;\n    }\n</style>\n<table border=\"1\" class=\"dataframe\">\n  <thead>\n    <tr style=\"text-align: right;\">\n      <th></th>\n      <th>playerID</th>\n      <th>yearID</th>\n      <th>stint</th>\n      <th>teamID</th>\n      <th>lgID</th>\n      <th>G</th>\n      <th>AB</th>\n      <th>R</th>\n      <th>H</th>\n      <th>2B</th>\n      <th>...</th>\n      <th>RBI</th>\n      <th>SB</th>\n      <th>CS</th>\n      <th>BB</th>\n      <th>SO</th>\n      <th>IBB</th>\n      <th>HBP</th>\n      <th>SH</th>\n      <th>SF</th>\n      <th>GIDP</th>\n    </tr>\n  </thead>\n  <tbody>\n    <tr>\n      <th>0</th>\n      <td>abercda01</td>\n      <td>1871</td>\n      <td>1</td>\n      <td>TRO</td>\n      <td>NaN</td>\n      <td>1</td>\n      <td>4</td>\n      <td>0</td>\n      <td>0</td>\n      <td>0</td>\n      <td>...</td>\n      <td>0.0</td>\n      <td>0.0</td>\n      <td>0.0</td>\n      <td>0</td>\n      <td>0.0</td>\n      <td>NaN</td>\n      <td>NaN</td>\n      <td>NaN</td>\n      <td>NaN</td>\n      <td>0.0</td>\n    </tr>\n    <tr>\n      <th>1</th>\n      <td>addybo01</td>\n      <td>1871</td>\n      <td>1</td>\n      <td>RC1</td>\n      <td>NaN</td>\n      <td>25</td>\n      <td>118</td>\n      <td>30</td>\n      <td>32</td>\n      <td>6</td>\n      <td>...</td>\n      <td>13.0</td>\n      <td>8.0</td>\n      <td>1.0</td>\n      <td>4</td>\n      <td>0.0</td>\n      <td>NaN</td>\n      <td>NaN</td>\n      <td>NaN</td>\n      <td>NaN</td>\n      <td>0.0</td>\n    </tr>\n    <tr>\n      <th>2</th>\n      <td>allisar01</td>\n      <td>1871</td>\n      <td>1</td>\n      <td>CL1</td>\n      <td>NaN</td>\n      <td>29</td>\n      <td>137</td>\n      <td>28</td>\n      <td>40</td>\n      <td>4</td>\n      <td>...</td>\n      <td>19.0</td>\n      <td>3.0</td>\n      <td>1.0</td>\n      <td>2</td>\n      <td>5.0</td>\n      <td>NaN</td>\n      <td>NaN</td>\n      <td>NaN</td>\n      <td>NaN</td>\n      <td>1.0</td>\n    </tr>\n    <tr>\n      <th>3</th>\n      <td>allisdo01</td>\n      <td>1871</td>\n      <td>1</td>\n      <td>WS3</td>\n      <td>NaN</td>\n      <td>27</td>\n      <td>133</td>\n      <td>28</td>\n      <td>44</td>\n      <td>10</td>\n      <td>...</td>\n      <td>27.0</td>\n      <td>1.0</td>\n      <td>1.0</td>\n      <td>0</td>\n      <td>2.0</td>\n      <td>NaN</td>\n      <td>NaN</td>\n      <td>NaN</td>\n      <td>NaN</td>\n      <td>0.0</td>\n    </tr>\n    <tr>\n      <th>4</th>\n      <td>ansonca01</td>\n      <td>1871</td>\n      <td>1</td>\n      <td>RC1</td>\n      <td>NaN</td>\n      <td>25</td>\n      <td>120</td>\n      <td>29</td>\n      <td>39</td>\n      <td>11</td>\n      <td>...</td>\n      <td>16.0</td>\n      <td>6.0</td>\n      <td>2.0</td>\n      <td>2</td>\n      <td>1.0</td>\n      <td>NaN</td>\n      <td>NaN</td>\n      <td>NaN</td>\n      <td>NaN</td>\n      <td>0.0</td>\n    </tr>\n  </tbody>\n</table>\n<p>5 rows × 22 columns</p>\n</div>"
     },
     "metadata": {},
     "output_type": "display_data"
    },
    {
     "data": {
      "text/plain": "    playerID  birthYear  birthMonth  birthDay birthCountry birthState  \\\n0  aardsda01     1981.0        12.0      27.0          USA         CO   \n1  aaronha01     1934.0         2.0       5.0          USA         AL   \n2  aaronto01     1939.0         8.0       5.0          USA         AL   \n3   aasedo01     1954.0         9.0       8.0          USA         CA   \n4   abadan01     1972.0         8.0      25.0          USA         FL   \n\n    birthCity  deathYear  deathMonth  deathDay  ... nameLast       nameGiven  \\\n0      Denver        NaN         NaN       NaN  ...  Aardsma     David Allan   \n1      Mobile        NaN         NaN       NaN  ...    Aaron     Henry Louis   \n2      Mobile     1984.0         8.0      16.0  ...    Aaron      Tommie Lee   \n3      Orange        NaN         NaN       NaN  ...     Aase  Donald William   \n4  Palm Beach        NaN         NaN       NaN  ...     Abad   Fausto Andres   \n\n  weight height bats throws       debut   finalGame   retroID    bbrefID  \n0  215.0   75.0    R      R  2004-04-06  2015-08-23  aardd001  aardsda01  \n1  180.0   72.0    R      R  1954-04-13  1976-10-03  aaroh101  aaronha01  \n2  190.0   75.0    R      R  1962-04-10  1971-09-26  aarot101  aaronto01  \n3  190.0   75.0    R      R  1977-07-26  1990-10-03  aased001   aasedo01  \n4  184.0   73.0    L      L  2001-09-10  2006-04-13  abada001   abadan01  \n\n[5 rows x 24 columns]",
      "text/html": "<div>\n<style scoped>\n    .dataframe tbody tr th:only-of-type {\n        vertical-align: middle;\n    }\n\n    .dataframe tbody tr th {\n        vertical-align: top;\n    }\n\n    .dataframe thead th {\n        text-align: right;\n    }\n</style>\n<table border=\"1\" class=\"dataframe\">\n  <thead>\n    <tr style=\"text-align: right;\">\n      <th></th>\n      <th>playerID</th>\n      <th>birthYear</th>\n      <th>birthMonth</th>\n      <th>birthDay</th>\n      <th>birthCountry</th>\n      <th>birthState</th>\n      <th>birthCity</th>\n      <th>deathYear</th>\n      <th>deathMonth</th>\n      <th>deathDay</th>\n      <th>...</th>\n      <th>nameLast</th>\n      <th>nameGiven</th>\n      <th>weight</th>\n      <th>height</th>\n      <th>bats</th>\n      <th>throws</th>\n      <th>debut</th>\n      <th>finalGame</th>\n      <th>retroID</th>\n      <th>bbrefID</th>\n    </tr>\n  </thead>\n  <tbody>\n    <tr>\n      <th>0</th>\n      <td>aardsda01</td>\n      <td>1981.0</td>\n      <td>12.0</td>\n      <td>27.0</td>\n      <td>USA</td>\n      <td>CO</td>\n      <td>Denver</td>\n      <td>NaN</td>\n      <td>NaN</td>\n      <td>NaN</td>\n      <td>...</td>\n      <td>Aardsma</td>\n      <td>David Allan</td>\n      <td>215.0</td>\n      <td>75.0</td>\n      <td>R</td>\n      <td>R</td>\n      <td>2004-04-06</td>\n      <td>2015-08-23</td>\n      <td>aardd001</td>\n      <td>aardsda01</td>\n    </tr>\n    <tr>\n      <th>1</th>\n      <td>aaronha01</td>\n      <td>1934.0</td>\n      <td>2.0</td>\n      <td>5.0</td>\n      <td>USA</td>\n      <td>AL</td>\n      <td>Mobile</td>\n      <td>NaN</td>\n      <td>NaN</td>\n      <td>NaN</td>\n      <td>...</td>\n      <td>Aaron</td>\n      <td>Henry Louis</td>\n      <td>180.0</td>\n      <td>72.0</td>\n      <td>R</td>\n      <td>R</td>\n      <td>1954-04-13</td>\n      <td>1976-10-03</td>\n      <td>aaroh101</td>\n      <td>aaronha01</td>\n    </tr>\n    <tr>\n      <th>2</th>\n      <td>aaronto01</td>\n      <td>1939.0</td>\n      <td>8.0</td>\n      <td>5.0</td>\n      <td>USA</td>\n      <td>AL</td>\n      <td>Mobile</td>\n      <td>1984.0</td>\n      <td>8.0</td>\n      <td>16.0</td>\n      <td>...</td>\n      <td>Aaron</td>\n      <td>Tommie Lee</td>\n      <td>190.0</td>\n      <td>75.0</td>\n      <td>R</td>\n      <td>R</td>\n      <td>1962-04-10</td>\n      <td>1971-09-26</td>\n      <td>aarot101</td>\n      <td>aaronto01</td>\n    </tr>\n    <tr>\n      <th>3</th>\n      <td>aasedo01</td>\n      <td>1954.0</td>\n      <td>9.0</td>\n      <td>8.0</td>\n      <td>USA</td>\n      <td>CA</td>\n      <td>Orange</td>\n      <td>NaN</td>\n      <td>NaN</td>\n      <td>NaN</td>\n      <td>...</td>\n      <td>Aase</td>\n      <td>Donald William</td>\n      <td>190.0</td>\n      <td>75.0</td>\n      <td>R</td>\n      <td>R</td>\n      <td>1977-07-26</td>\n      <td>1990-10-03</td>\n      <td>aased001</td>\n      <td>aasedo01</td>\n    </tr>\n    <tr>\n      <th>4</th>\n      <td>abadan01</td>\n      <td>1972.0</td>\n      <td>8.0</td>\n      <td>25.0</td>\n      <td>USA</td>\n      <td>FL</td>\n      <td>Palm Beach</td>\n      <td>NaN</td>\n      <td>NaN</td>\n      <td>NaN</td>\n      <td>...</td>\n      <td>Abad</td>\n      <td>Fausto Andres</td>\n      <td>184.0</td>\n      <td>73.0</td>\n      <td>L</td>\n      <td>L</td>\n      <td>2001-09-10</td>\n      <td>2006-04-13</td>\n      <td>abada001</td>\n      <td>abadan01</td>\n    </tr>\n  </tbody>\n</table>\n<p>5 rows × 24 columns</p>\n</div>"
     },
     "metadata": {},
     "output_type": "display_data"
    }
   ],
   "source": [
    "import pandas as pd\n",
    "from IPython.core.display import display\n",
    "\n",
    "batting = pd.read_csv('Batting.csv')\n",
    "players = pd.read_csv('People.csv')\n",
    "\n",
    "display(batting.head())\n",
    "display(players.head())"
   ],
   "metadata": {
    "collapsed": false,
    "pycharm": {
     "name": "#%%\n"
    }
   }
  },
  {
   "cell_type": "markdown",
   "source": [
    "### Merge the People and Batting DF"
   ],
   "metadata": {
    "collapsed": false
   }
  },
  {
   "cell_type": "code",
   "execution_count": 2,
   "outputs": [
    {
     "data": {
      "text/plain": "    playerID  yearID  stint teamID lgID   G   AB   R   H  2B  ...  \\\n0  abercda01    1871      1    TRO  NaN   1    4   0   0   0  ...   \n1   addybo01    1871      1    RC1  NaN  25  118  30  32   6  ...   \n2   addybo01    1873      1    PH2  NaN  10   51  12  16   1  ...   \n3   addybo01    1873      2    BS1  NaN  31  152  37  54   6  ...   \n4   addybo01    1874      1    HR1  NaN  50  213  25  51   9  ...   \n\n      nameLast          nameGiven  weight  height  bats  throws       debut  \\\n0  Abercrombie  Francis Patterson     NaN     NaN   NaN     NaN  1871-10-21   \n1         Addy      Robert Edward   160.0    68.0     L       L  1871-05-06   \n2         Addy      Robert Edward   160.0    68.0     L       L  1871-05-06   \n3         Addy      Robert Edward   160.0    68.0     L       L  1871-05-06   \n4         Addy      Robert Edward   160.0    68.0     L       L  1871-05-06   \n\n    finalGame   retroID    bbrefID  \n0  1871-10-21  aberd101  abercda01  \n1  1877-10-06  addyb101   addybo01  \n2  1877-10-06  addyb101   addybo01  \n3  1877-10-06  addyb101   addybo01  \n4  1877-10-06  addyb101   addybo01  \n\n[5 rows x 45 columns]",
      "text/html": "<div>\n<style scoped>\n    .dataframe tbody tr th:only-of-type {\n        vertical-align: middle;\n    }\n\n    .dataframe tbody tr th {\n        vertical-align: top;\n    }\n\n    .dataframe thead th {\n        text-align: right;\n    }\n</style>\n<table border=\"1\" class=\"dataframe\">\n  <thead>\n    <tr style=\"text-align: right;\">\n      <th></th>\n      <th>playerID</th>\n      <th>yearID</th>\n      <th>stint</th>\n      <th>teamID</th>\n      <th>lgID</th>\n      <th>G</th>\n      <th>AB</th>\n      <th>R</th>\n      <th>H</th>\n      <th>2B</th>\n      <th>...</th>\n      <th>nameLast</th>\n      <th>nameGiven</th>\n      <th>weight</th>\n      <th>height</th>\n      <th>bats</th>\n      <th>throws</th>\n      <th>debut</th>\n      <th>finalGame</th>\n      <th>retroID</th>\n      <th>bbrefID</th>\n    </tr>\n  </thead>\n  <tbody>\n    <tr>\n      <th>0</th>\n      <td>abercda01</td>\n      <td>1871</td>\n      <td>1</td>\n      <td>TRO</td>\n      <td>NaN</td>\n      <td>1</td>\n      <td>4</td>\n      <td>0</td>\n      <td>0</td>\n      <td>0</td>\n      <td>...</td>\n      <td>Abercrombie</td>\n      <td>Francis Patterson</td>\n      <td>NaN</td>\n      <td>NaN</td>\n      <td>NaN</td>\n      <td>NaN</td>\n      <td>1871-10-21</td>\n      <td>1871-10-21</td>\n      <td>aberd101</td>\n      <td>abercda01</td>\n    </tr>\n    <tr>\n      <th>1</th>\n      <td>addybo01</td>\n      <td>1871</td>\n      <td>1</td>\n      <td>RC1</td>\n      <td>NaN</td>\n      <td>25</td>\n      <td>118</td>\n      <td>30</td>\n      <td>32</td>\n      <td>6</td>\n      <td>...</td>\n      <td>Addy</td>\n      <td>Robert Edward</td>\n      <td>160.0</td>\n      <td>68.0</td>\n      <td>L</td>\n      <td>L</td>\n      <td>1871-05-06</td>\n      <td>1877-10-06</td>\n      <td>addyb101</td>\n      <td>addybo01</td>\n    </tr>\n    <tr>\n      <th>2</th>\n      <td>addybo01</td>\n      <td>1873</td>\n      <td>1</td>\n      <td>PH2</td>\n      <td>NaN</td>\n      <td>10</td>\n      <td>51</td>\n      <td>12</td>\n      <td>16</td>\n      <td>1</td>\n      <td>...</td>\n      <td>Addy</td>\n      <td>Robert Edward</td>\n      <td>160.0</td>\n      <td>68.0</td>\n      <td>L</td>\n      <td>L</td>\n      <td>1871-05-06</td>\n      <td>1877-10-06</td>\n      <td>addyb101</td>\n      <td>addybo01</td>\n    </tr>\n    <tr>\n      <th>3</th>\n      <td>addybo01</td>\n      <td>1873</td>\n      <td>2</td>\n      <td>BS1</td>\n      <td>NaN</td>\n      <td>31</td>\n      <td>152</td>\n      <td>37</td>\n      <td>54</td>\n      <td>6</td>\n      <td>...</td>\n      <td>Addy</td>\n      <td>Robert Edward</td>\n      <td>160.0</td>\n      <td>68.0</td>\n      <td>L</td>\n      <td>L</td>\n      <td>1871-05-06</td>\n      <td>1877-10-06</td>\n      <td>addyb101</td>\n      <td>addybo01</td>\n    </tr>\n    <tr>\n      <th>4</th>\n      <td>addybo01</td>\n      <td>1874</td>\n      <td>1</td>\n      <td>HR1</td>\n      <td>NaN</td>\n      <td>50</td>\n      <td>213</td>\n      <td>25</td>\n      <td>51</td>\n      <td>9</td>\n      <td>...</td>\n      <td>Addy</td>\n      <td>Robert Edward</td>\n      <td>160.0</td>\n      <td>68.0</td>\n      <td>L</td>\n      <td>L</td>\n      <td>1871-05-06</td>\n      <td>1877-10-06</td>\n      <td>addyb101</td>\n      <td>addybo01</td>\n    </tr>\n  </tbody>\n</table>\n<p>5 rows × 45 columns</p>\n</div>"
     },
     "execution_count": 2,
     "metadata": {},
     "output_type": "execute_result"
    }
   ],
   "source": [
    "PB_DF = pd.merge(batting, players, on='playerID')\n",
    "PB_DF.head()"
   ],
   "metadata": {
    "collapsed": false,
    "pycharm": {
     "name": "#%%\n"
    }
   }
  },
  {
   "cell_type": "markdown",
   "source": [
    "### Add calculated columns"
   ],
   "metadata": {
    "collapsed": false
   }
  },
  {
   "cell_type": "code",
   "execution_count": 3,
   "outputs": [
    {
     "data": {
      "text/plain": "    playerID  yearID  stint teamID lgID   G   AB   R   H  2B  ...  \\\n0  abercda01    1871      1    TRO  NaN   1    4   0   0   0  ...   \n1   addybo01    1871      1    RC1  NaN  25  118  30  32   6  ...   \n2   addybo01    1873      1    PH2  NaN  10   51  12  16   1  ...   \n3   addybo01    1873      2    BS1  NaN  31  152  37  54   6  ...   \n4   addybo01    1874      1    HR1  NaN  50  213  25  51   9  ...   \n\n      deathCity          nameGiven  weight  height  bats  throws       debut  \\\n0  Philadelphia  Francis Patterson     NaN     NaN   NaN     NaN  1871-10-21   \n1     Pocatello      Robert Edward   160.0    68.0     L       L  1871-05-06   \n2     Pocatello      Robert Edward   160.0    68.0     L       L  1871-05-06   \n3     Pocatello      Robert Edward   160.0    68.0     L       L  1871-05-06   \n4     Pocatello      Robert Edward   160.0    68.0     L       L  1871-05-06   \n\n    finalGame         DOB           fullName  \n0  1871-10-21    1850-1-2  Frank Abercrombie  \n1  1877-10-06  1842-2-nan           Bob Addy  \n2  1877-10-06  1842-2-nan           Bob Addy  \n3  1877-10-06  1842-2-nan           Bob Addy  \n4  1877-10-06  1842-2-nan           Bob Addy  \n\n[5 rows x 40 columns]",
      "text/html": "<div>\n<style scoped>\n    .dataframe tbody tr th:only-of-type {\n        vertical-align: middle;\n    }\n\n    .dataframe tbody tr th {\n        vertical-align: top;\n    }\n\n    .dataframe thead th {\n        text-align: right;\n    }\n</style>\n<table border=\"1\" class=\"dataframe\">\n  <thead>\n    <tr style=\"text-align: right;\">\n      <th></th>\n      <th>playerID</th>\n      <th>yearID</th>\n      <th>stint</th>\n      <th>teamID</th>\n      <th>lgID</th>\n      <th>G</th>\n      <th>AB</th>\n      <th>R</th>\n      <th>H</th>\n      <th>2B</th>\n      <th>...</th>\n      <th>deathCity</th>\n      <th>nameGiven</th>\n      <th>weight</th>\n      <th>height</th>\n      <th>bats</th>\n      <th>throws</th>\n      <th>debut</th>\n      <th>finalGame</th>\n      <th>DOB</th>\n      <th>fullName</th>\n    </tr>\n  </thead>\n  <tbody>\n    <tr>\n      <th>0</th>\n      <td>abercda01</td>\n      <td>1871</td>\n      <td>1</td>\n      <td>TRO</td>\n      <td>NaN</td>\n      <td>1</td>\n      <td>4</td>\n      <td>0</td>\n      <td>0</td>\n      <td>0</td>\n      <td>...</td>\n      <td>Philadelphia</td>\n      <td>Francis Patterson</td>\n      <td>NaN</td>\n      <td>NaN</td>\n      <td>NaN</td>\n      <td>NaN</td>\n      <td>1871-10-21</td>\n      <td>1871-10-21</td>\n      <td>1850-1-2</td>\n      <td>Frank Abercrombie</td>\n    </tr>\n    <tr>\n      <th>1</th>\n      <td>addybo01</td>\n      <td>1871</td>\n      <td>1</td>\n      <td>RC1</td>\n      <td>NaN</td>\n      <td>25</td>\n      <td>118</td>\n      <td>30</td>\n      <td>32</td>\n      <td>6</td>\n      <td>...</td>\n      <td>Pocatello</td>\n      <td>Robert Edward</td>\n      <td>160.0</td>\n      <td>68.0</td>\n      <td>L</td>\n      <td>L</td>\n      <td>1871-05-06</td>\n      <td>1877-10-06</td>\n      <td>1842-2-nan</td>\n      <td>Bob Addy</td>\n    </tr>\n    <tr>\n      <th>2</th>\n      <td>addybo01</td>\n      <td>1873</td>\n      <td>1</td>\n      <td>PH2</td>\n      <td>NaN</td>\n      <td>10</td>\n      <td>51</td>\n      <td>12</td>\n      <td>16</td>\n      <td>1</td>\n      <td>...</td>\n      <td>Pocatello</td>\n      <td>Robert Edward</td>\n      <td>160.0</td>\n      <td>68.0</td>\n      <td>L</td>\n      <td>L</td>\n      <td>1871-05-06</td>\n      <td>1877-10-06</td>\n      <td>1842-2-nan</td>\n      <td>Bob Addy</td>\n    </tr>\n    <tr>\n      <th>3</th>\n      <td>addybo01</td>\n      <td>1873</td>\n      <td>2</td>\n      <td>BS1</td>\n      <td>NaN</td>\n      <td>31</td>\n      <td>152</td>\n      <td>37</td>\n      <td>54</td>\n      <td>6</td>\n      <td>...</td>\n      <td>Pocatello</td>\n      <td>Robert Edward</td>\n      <td>160.0</td>\n      <td>68.0</td>\n      <td>L</td>\n      <td>L</td>\n      <td>1871-05-06</td>\n      <td>1877-10-06</td>\n      <td>1842-2-nan</td>\n      <td>Bob Addy</td>\n    </tr>\n    <tr>\n      <th>4</th>\n      <td>addybo01</td>\n      <td>1874</td>\n      <td>1</td>\n      <td>HR1</td>\n      <td>NaN</td>\n      <td>50</td>\n      <td>213</td>\n      <td>25</td>\n      <td>51</td>\n      <td>9</td>\n      <td>...</td>\n      <td>Pocatello</td>\n      <td>Robert Edward</td>\n      <td>160.0</td>\n      <td>68.0</td>\n      <td>L</td>\n      <td>L</td>\n      <td>1871-05-06</td>\n      <td>1877-10-06</td>\n      <td>1842-2-nan</td>\n      <td>Bob Addy</td>\n    </tr>\n  </tbody>\n</table>\n<p>5 rows × 40 columns</p>\n</div>"
     },
     "execution_count": 3,
     "metadata": {},
     "output_type": "execute_result"
    }
   ],
   "source": [
    "# Using the f\" to format\n",
    "year = PB_DF['birthYear'].apply(lambda x: f'{x:.0f}')\n",
    "month = PB_DF['birthMonth'].apply(lambda x: f'{x:.0f}')\n",
    "day = PB_DF['birthDay'].apply(lambda x: f'{x:.0f}')\n",
    "\n",
    "# Concate birth year, month, day\n",
    "dob =  year + \"-\" + month + \"-\" + day\n",
    "# Add column with birth info\n",
    "PB_DF['DOB'] = dob\n",
    "\n",
    "PB_DF['fullName'] = PB_DF['nameFirst'].astype(str) + \" \" + PB_DF['nameLast'].astype(str)\n",
    "\n",
    "PB_DF.drop(['birthYear', 'birthMonth', 'birthDay', 'nameFirst', 'nameLast', 'retroID', 'bbrefID'], axis=1, inplace=True)\n",
    "# Drop rows that have all 'na'\n",
    "# PB_DF = PB_DF.dropna(how='all')\n",
    "PB_DF.head()"
   ],
   "metadata": {
    "collapsed": false,
    "pycharm": {
     "name": "#%%\n"
    }
   }
  },
  {
   "cell_type": "markdown",
   "source": [
    "### Show all the players that have played 50+ games and are still active"
   ],
   "metadata": {
    "collapsed": false
   }
  },
  {
   "cell_type": "code",
   "execution_count": 4,
   "outputs": [
    {
     "data": {
      "text/plain": "        playerID  yearID  stint teamID lgID    G   AB    R    H  2B  ...  \\\n88118  pujolal01    2001      1    SLN   NL  161  590  112  194  47  ...   \n88119  pujolal01    2002      1    SLN   NL  157  590  118  185  40  ...   \n88120  pujolal01    2003      1    SLN   NL  157  591  137  212  51  ...   \n88121  pujolal01    2004      1    SLN   NL  154  592  133  196  51  ...   \n88122  pujolal01    2005      1    SLN   NL  161  591  129  195  38  ...   \n\n       deathCity     nameGiven  weight  height  bats  throws       debut  \\\n88118        NaN  Jose Alberto   235.0    75.0     R       R  2001-04-02   \n88119        NaN  Jose Alberto   235.0    75.0     R       R  2001-04-02   \n88120        NaN  Jose Alberto   235.0    75.0     R       R  2001-04-02   \n88121        NaN  Jose Alberto   235.0    75.0     R       R  2001-04-02   \n88122        NaN  Jose Alberto   235.0    75.0     R       R  2001-04-02   \n\n       finalGame        DOB       fullName  \n88118 2020-08-08  1980-1-16  Albert Pujols  \n88119 2020-08-08  1980-1-16  Albert Pujols  \n88120 2020-08-08  1980-1-16  Albert Pujols  \n88121 2020-08-08  1980-1-16  Albert Pujols  \n88122 2020-08-08  1980-1-16  Albert Pujols  \n\n[5 rows x 40 columns]",
      "text/html": "<div>\n<style scoped>\n    .dataframe tbody tr th:only-of-type {\n        vertical-align: middle;\n    }\n\n    .dataframe tbody tr th {\n        vertical-align: top;\n    }\n\n    .dataframe thead th {\n        text-align: right;\n    }\n</style>\n<table border=\"1\" class=\"dataframe\">\n  <thead>\n    <tr style=\"text-align: right;\">\n      <th></th>\n      <th>playerID</th>\n      <th>yearID</th>\n      <th>stint</th>\n      <th>teamID</th>\n      <th>lgID</th>\n      <th>G</th>\n      <th>AB</th>\n      <th>R</th>\n      <th>H</th>\n      <th>2B</th>\n      <th>...</th>\n      <th>deathCity</th>\n      <th>nameGiven</th>\n      <th>weight</th>\n      <th>height</th>\n      <th>bats</th>\n      <th>throws</th>\n      <th>debut</th>\n      <th>finalGame</th>\n      <th>DOB</th>\n      <th>fullName</th>\n    </tr>\n  </thead>\n  <tbody>\n    <tr>\n      <th>88118</th>\n      <td>pujolal01</td>\n      <td>2001</td>\n      <td>1</td>\n      <td>SLN</td>\n      <td>NL</td>\n      <td>161</td>\n      <td>590</td>\n      <td>112</td>\n      <td>194</td>\n      <td>47</td>\n      <td>...</td>\n      <td>NaN</td>\n      <td>Jose Alberto</td>\n      <td>235.0</td>\n      <td>75.0</td>\n      <td>R</td>\n      <td>R</td>\n      <td>2001-04-02</td>\n      <td>2020-08-08</td>\n      <td>1980-1-16</td>\n      <td>Albert Pujols</td>\n    </tr>\n    <tr>\n      <th>88119</th>\n      <td>pujolal01</td>\n      <td>2002</td>\n      <td>1</td>\n      <td>SLN</td>\n      <td>NL</td>\n      <td>157</td>\n      <td>590</td>\n      <td>118</td>\n      <td>185</td>\n      <td>40</td>\n      <td>...</td>\n      <td>NaN</td>\n      <td>Jose Alberto</td>\n      <td>235.0</td>\n      <td>75.0</td>\n      <td>R</td>\n      <td>R</td>\n      <td>2001-04-02</td>\n      <td>2020-08-08</td>\n      <td>1980-1-16</td>\n      <td>Albert Pujols</td>\n    </tr>\n    <tr>\n      <th>88120</th>\n      <td>pujolal01</td>\n      <td>2003</td>\n      <td>1</td>\n      <td>SLN</td>\n      <td>NL</td>\n      <td>157</td>\n      <td>591</td>\n      <td>137</td>\n      <td>212</td>\n      <td>51</td>\n      <td>...</td>\n      <td>NaN</td>\n      <td>Jose Alberto</td>\n      <td>235.0</td>\n      <td>75.0</td>\n      <td>R</td>\n      <td>R</td>\n      <td>2001-04-02</td>\n      <td>2020-08-08</td>\n      <td>1980-1-16</td>\n      <td>Albert Pujols</td>\n    </tr>\n    <tr>\n      <th>88121</th>\n      <td>pujolal01</td>\n      <td>2004</td>\n      <td>1</td>\n      <td>SLN</td>\n      <td>NL</td>\n      <td>154</td>\n      <td>592</td>\n      <td>133</td>\n      <td>196</td>\n      <td>51</td>\n      <td>...</td>\n      <td>NaN</td>\n      <td>Jose Alberto</td>\n      <td>235.0</td>\n      <td>75.0</td>\n      <td>R</td>\n      <td>R</td>\n      <td>2001-04-02</td>\n      <td>2020-08-08</td>\n      <td>1980-1-16</td>\n      <td>Albert Pujols</td>\n    </tr>\n    <tr>\n      <th>88122</th>\n      <td>pujolal01</td>\n      <td>2005</td>\n      <td>1</td>\n      <td>SLN</td>\n      <td>NL</td>\n      <td>161</td>\n      <td>591</td>\n      <td>129</td>\n      <td>195</td>\n      <td>38</td>\n      <td>...</td>\n      <td>NaN</td>\n      <td>Jose Alberto</td>\n      <td>235.0</td>\n      <td>75.0</td>\n      <td>R</td>\n      <td>R</td>\n      <td>2001-04-02</td>\n      <td>2020-08-08</td>\n      <td>1980-1-16</td>\n      <td>Albert Pujols</td>\n    </tr>\n  </tbody>\n</table>\n<p>5 rows × 40 columns</p>\n</div>"
     },
     "metadata": {},
     "output_type": "display_data"
    },
    {
     "data": {
      "text/plain": "(2220, 40)"
     },
     "metadata": {},
     "output_type": "display_data"
    },
    {
     "data": {
      "text/plain": "555"
     },
     "metadata": {},
     "output_type": "display_data"
    }
   ],
   "source": [
    "# Convert the dtype of the columns\n",
    "PB_DF['finalGame'] = pd.to_datetime(PB_DF['finalGame'])\n",
    "PB_DF['G'] = pd.to_numeric(PB_DF['G'])\n",
    "# Set the variable for the boolean mask\n",
    "start_date = '2020-01-01'\n",
    "end_date = '2020-12-31'\n",
    "min_games = 50\n",
    "# Set the condition for the Dataframe and assign it to mask\n",
    "mask = (PB_DF['finalGame'] > start_date) & (PB_DF['finalGame'] < end_date) & (PB_DF['G'] >= min_games)\n",
    "# Create new Dataframe for current active players with > 50 career games\n",
    "active_players = PB_DF.loc[mask]\n",
    "\n",
    "display(active_players.head())\n",
    "display(active_players.shape)\n",
    "display(active_players['playerID'].nunique())"
   ],
   "metadata": {
    "collapsed": false,
    "pycharm": {
     "name": "#%%\n"
    }
   }
  }
 ],
 "metadata": {
  "kernelspec": {
   "display_name": "Python 3",
   "language": "python",
   "name": "python3"
  },
  "language_info": {
   "codemirror_mode": {
    "name": "ipython",
    "version": 2
   },
   "file_extension": ".py",
   "mimetype": "text/x-python",
   "name": "python",
   "nbconvert_exporter": "python",
   "pygments_lexer": "ipython2",
   "version": "2.7.6"
  }
 },
 "nbformat": 4,
 "nbformat_minor": 0
}